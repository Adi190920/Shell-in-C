{
  "nbformat": 4,
  "nbformat_minor": 0,
  "metadata": {
    "colab": {
      "name": "CropPrediction.ipynb",
      "provenance": [],
      "authorship_tag": "ABX9TyOGgNhFAKUJC2dfNTcbI6uQ",
      "include_colab_link": true
    },
    "kernelspec": {
      "name": "python3",
      "display_name": "Python 3"
    },
    "language_info": {
      "name": "python"
    }
  },
  "cells": [
    {
      "cell_type": "markdown",
      "metadata": {
        "id": "view-in-github",
        "colab_type": "text"
      },
      "source": [
        "<a href=\"https://colab.research.google.com/github/Adi190920/Shell-in-C/blob/main/CropPrediction.ipynb\" target=\"_parent\"><img src=\"https://colab.research.google.com/assets/colab-badge.svg\" alt=\"Open In Colab\"/></a>"
      ]
    },
    {
      "cell_type": "code",
      "execution_count": 2,
      "metadata": {
        "id": "ZRxDRwIrZcAi"
      },
      "outputs": [],
      "source": [
        "import os\n",
        "# import settings\n",
        "import pandas as pd\n",
        "import numpy as np\n",
        "from matplotlib import pyplot as plt"
      ]
    },
    {
      "cell_type": "code",
      "source": [
        "df1 = pd.read_csv(os.path.join(settings.DATA_DIR, settings.CROP_PRODUCTION_DATA), sep=\",\", header=\"infer\")\n",
        "# df1.head()\n",
        "df1['State_Name'].unique()\n",
        "# df1['District_Name'].unique()\n",
        "# df1['Crop'].unique()\n",
        "# df1['Season'].unique()\n",
        "# mean_area = np.mean(df1['Area'].unique())\n",
        "# std_area = np.std(df1['Area'].unique())\n",
        "# print(mean_area, std_area)"
      ],
      "metadata": {
        "id": "ZlOMuc6IZdXN"
      },
      "execution_count": null,
      "outputs": []
    },
    {
      "cell_type": "code",
      "source": [
        "# renaming columns\n",
        "df1.rename(columns={'State_Name': 'State', 'District_Name': 'District', 'Crop_Year': 'Year'}, inplace=True)\n",
        "df1.head(2)"
      ],
      "metadata": {
        "id": "uy8JsKrpZgCR"
      },
      "execution_count": null,
      "outputs": []
    },
    {
      "cell_type": "code",
      "source": [
        "subdivision_districts = { \n",
        "        'GANGETIC WEST BENGAL' : ['bankura', 'paschim bardhaman', 'purba bardhaman', 'birbhum', 'purulia', 'murshidabad', \n",
        "                                  'nadia', 'west midnapore', 'jhargram', 'east midnapore', 'hooghly', 'howrah', 'kolkata', \n",
        "                                  'north 24 parganas', 'south 24 parganas', '24 paraganas north', '24 paraganas south',\n",
        "                                 'bardhaman', 'dinajpur dakshin', 'dinajpur uttar',  'maldah', 'medinipur east',\n",
        "                                  'medinipur west'],\n",
        "        'SUB HIMALAYAN WEST BENGAL AND SIKKIM': ['darjeeling', 'jalpaiguri', 'coochbehar'],\n",
        "       \n",
        "        'EAST UTTAR PRADESH' : ['amethi', 'bahraich', 'gonda', 'basti', 'gorakhpur', 'deoria', 'ballia', 'azamgarh', 'faizabad', \n",
        "                                'sultanpur', 'jaunpur', 'ghazipur', 'varanasi', 'mirzapur', 'allahabad', 'pratapgarh', \n",
        "                                'sant kabeer nagar', 'barabanki', 'ambedkar nagar', 'mahrajganj', 'kushi nagar', 'chandauli',\n",
        "                                'balrampur', 'sant ravidas nagar', 'kaushambi', 'mau', 'deoria', 'shravasti', 'gorakhpur', 'budaun',\n",
        "                               'hardoi', 'jalaun', 'kannauj', 'kheri', 'sitapur'],\n",
        "       'WEST UTTAR PRADESH' : ['meerut', 'bulandshahr', 'gautam buddha nagar', 'ghaziabad', 'hapur', 'baghpat', 'saharanpur', \n",
        "                               'muzaffarnagar', 'shamli', 'moradabad', 'bijnor', 'rampur', 'amroha', 'sambhal', 'rae bareli', 'bareilly', \n",
        "                               'pilibhit', 'shahjahanpur', 'agra', 'firozabad', 'mainpuri', 'mathura', 'aligarh', \n",
        "                               'etah', 'hathras', 'kasganj', 'etawah', 'auraiya', 'farrukhabad', 'unnao', 'banda', 'chitrakoot',\n",
        "                              'fatehpur', 'hamirpur', 'jhansi', 'kanpur dehat', 'kanpur nagar', 'lalitpur','lucknow', 'maharajganj',\n",
        "                              'mahoba', 'siddharth nagar', 'sonbhadra'],  \n",
        "        \n",
        "        'WEST RAJASTHAN': ['hanumangarh', 'sriganganagar', 'bikaner', 'jaisalmer', 'barmer', 'jalore', 'sirohi', 'pali', \n",
        "                           'jodhpur', 'nagaur', 'churu', 'sikar', 'jhunjhunu', 'ganganagar', 'morena', 'sheopur', 'bhind'], \n",
        "        'EAST RAJASTHAN' : ['tonk', 'bundi', 'ajmer', 'sawai madhopur', 'bhilwara', 'chittorgarh', 'kota', 'bharatpur',\n",
        "                           'jaipur', 'rajsamand', 'udaipur', 'alwar', 'dungarpur', 'baran', 'dholpur', 'bhilwara', 'dausa',\n",
        "                           'jhalawar','karauh', 'banswara', 'karauli', 'pratapgarh'],\n",
        "        'WEST MADHYA PRADESH': ['alirajpur', 'barwani', 'burhanpur', 'indore', 'dhar', 'jhabua', 'khandwa', 'khargone', \n",
        "                               'agar malwa', 'dewas', 'mandsaur', 'neemuch', 'ratlam', 'shajapur', 'ujjain','gwalior', \n",
        "                               'ashoknagar', 'shivpuri', 'datia', 'guna', 'betul', 'harda', 'narmadapuram', 'bhopal', \n",
        "                              'raisen', 'rajgarh', 'sehore', 'vidisha', 'morena', 'sheopur', 'bhind'], \n",
        "        'EAST MADHYA PRADESH' : ['rewa', 'satna', 'sidhi', 'singrauli', 'chhatarpur', 'damoh', 'panna', 'sagar', 'tikamgarh',\n",
        "                                 'niwari', 'anuppur', 'shahdol','umaria', 'balaghat', 'chhindwara', 'jabalpur', 'katni', \n",
        "                                 'mandla', 'narsinghpur', 'seoni', 'dindori', 'hoshangabad'], \n",
        "        'GUJARAT REGION' : ['ahmadabad', 'anand', 'bharuch', 'chhota udaipur', 'dahod', 'kheda', 'mahisagar', 'panchmahal',\n",
        "                            'dang', 'navsari', 'surat', 'narmada', 'bharuch', 'vadodara', 'tapi', 'valsad', 'mahesana',\n",
        "                            'dadra and nagar haveli', 'patan', 'gandhinagar', 'banas kantha', 'dohad', 'panch mahals', \n",
        "                            'sabar kantha'],\n",
        "        'SAURASHTRA AND KUTCH' : ['kachchh', 'devbhoomi dwarka', 'jamnagar', 'morbi', 'rajkot', 'porbandar', 'junagadh', \n",
        "                                  'gir somnath', 'amreli', 'bhavnagar', 'botad', 'surendranagar'], \n",
        "        'KONKAN AND GOA' : ['palghar', 'thane', 'mumbai suburban', 'mumbai city', 'raigad', 'ratnagiri','sindhudurg','mumbai'], \n",
        "        'MADHYA MAHARASHTRA' : ['ahmednagar', 'dhule', 'jalgaon', 'kolhapur', 'nandurbar', 'nashik', 'pune', 'sangli',\n",
        "                                'satara', 'solapur'],\n",
        "        'MATATHWADA':['aurangabad', 'beed', 'jalna', 'parbhani', 'osmanabad', 'latur', 'nanded', 'hingoli'], \n",
        "        'VIDARBHA' : ['buldhana', 'akola', 'washim', 'amravati', 'yavatmal', 'wardha', 'nagpur', 'chandrapur', 'gadchiroli',\n",
        "                     'gondia', 'bhandara'], \n",
        "        \n",
        "        'COASTAL ANDHRA PRADESH' : ['srikakulam', 'vizianagaram', 'vishakhapatnam', 'east godavari', 'west godavari', \n",
        "                                    'machilipatnam', 'guntur', 'prakasam', 'sandhi', 'spsr nellore', \n",
        "                                    'krishna', 'visakhapatanam'],\n",
        "       \n",
        "        'RAYALSEEMA' : ['anantapur', 'chittoor', 'kadapa', 'kurnool'], \n",
        "        \n",
        "        'COASTAL KARNATAKA' : [ 'dakshin kannad', 'udupi', 'uttar kannad'],\n",
        "        'NORTH INTERIOR KARNATAKA' : ['belgaum', 'bidar', 'bijapur', 'bagalkot', 'haveri', 'gadag', 'dharwad', 'gulbarga',\n",
        "                                     'koppal', 'bellary', 'raichur', 'yadgir'], \n",
        "        'SOUTH INTERIOR KARNATAKA' : ['bangalore rural', 'bengaluru rural', 'bengaluru urban', 'bellary', 'chikmagalur', 'chitradurga', 'kodagu',\n",
        "                                      'hassan', 'kolar', 'mysore', 'chamarajanagar', 'shimoga', 'tumkur', 'ramanagara',\n",
        "                                     'mandya', 'davangere', 'chikballapur'], \n",
        "        }"
      ],
      "metadata": {
        "id": "Du7LkB8bZgJV"
      },
      "execution_count": null,
      "outputs": []
    },
    {
      "cell_type": "code",
      "source": [
        "states = {\n",
        "        'ANDAMAN AND NICOBAR ISLANDS' : ['ANDAMAN AND NICOBAR ISLANDS'], \n",
        "        'ARUNACHAL PRADESH' : ['ARUNACHAL PRADESH'],\n",
        "        'ASSAM AND MEGHALAYA' : ['ASSAM', 'MEGHALAYA'],\n",
        "        'SUB HIMALAYAN WEST BENGAL AND SIKKIM' : ['SIKKIM', 'WEST BENGAL'],\n",
        "        'ORISSA' : ['ODISHA'],\n",
        "        'JHARKHAND':['JHARKHAND'], \n",
        "        'BIHAR':['BIHAR'],\n",
        "        'PUNJAB' :['PUNJAB'], \n",
        "        'HIMACHAL PRADESH':['HIMACHAL PRADESH'],\n",
        "        'JAMMU AND KASHMIR' :['JAMMU AND KASHMIR '], \n",
        "        'CHHATTISGARH': ['CHHATTISGARH'], \n",
        "        'TELANGANA': ['TELANGANA '],\n",
        "        'TAMIL NADU': ['TAMIL NADU', 'PUDUCHERRY'], \n",
        "        'KERALA': ['KERALA'],\n",
        "        'LAKSHADWEEP':['LAKSHADWEEP'],  \n",
        "        'UTTARAKHAND' : ['UTTARAKHAND'],\n",
        "        'HARYANA DELHI AND CHANDIGARH' : ['HARYANA', 'DELHI', 'CHANDIGARH'],\n",
        "        'KONKAN AND GOA' : ['GOA'],\n",
        "         'NAGA MANI MIZO TRIPURA':['NAGALAND', 'MANIPUR', 'MIZORAM', 'TRIPURA'],\n",
        "        'GUJARAT REGION' : ['DADRA AND NAGAR HAVELI']}"
      ],
      "metadata": {
        "id": "iRDmWGrbZkIL"
      },
      "execution_count": null,
      "outputs": []
    },
    {
      "cell_type": "code",
      "source": [
        "df1['Season'].unique()"
      ],
      "metadata": {
        "id": "WRddm_X2ZnW5"
      },
      "execution_count": null,
      "outputs": []
    },
    {
      "cell_type": "code",
      "source": [
        "def add_column(x, states, subdivision_districts):\n",
        "    district = x[1]\n",
        "    state = x[0]\n",
        "    for key in states:\n",
        "        if state.upper() in states[key] :\n",
        "            return key.upper()\n",
        "    for key in subdivision_districts:\n",
        "        if district.lower() in subdivision_districts[key] :\n",
        "            return key.upper()\n",
        "    "
      ],
      "metadata": {
        "id": "vDpY-lSHZnh5"
      },
      "execution_count": null,
      "outputs": []
    },
    {
      "cell_type": "code",
      "source": [
        "df1['Subdivision'] = df1.apply(lambda x : add_column(x, states, subdivision_districts), axis=1 )\n",
        "df1.head()"
      ],
      "metadata": {
        "id": "nI7UwqFaZnkx"
      },
      "execution_count": null,
      "outputs": []
    },
    {
      "cell_type": "code",
      "source": [
        "df1['State'].unique()"
      ],
      "metadata": {
        "id": "ISCIdNdkZnnV"
      },
      "execution_count": null,
      "outputs": []
    },
    {
      "cell_type": "code",
      "source": [
        "df2 = pd.read_csv(os.path.join(settings.DATA_DIR, settings.RAINFALL_DATA), sep=\",\", header=\"infer\")\n",
        "df2.head()"
      ],
      "metadata": {
        "id": "4YLEkZzzZnsi"
      },
      "execution_count": null,
      "outputs": []
    },
    {
      "cell_type": "code",
      "source": [
        "df2 = df2[df2['YEAR'] > 1996]\n",
        "df2 = df2[df2['YEAR'] < 2015]"
      ],
      "metadata": {
        "id": "GO8t4ciyZnvo"
      },
      "execution_count": null,
      "outputs": []
    },
    {
      "cell_type": "code",
      "source": [
        "# df2['Kharif'] = df2[['JUL', 'AUG', 'SEP', 'OCT', 'NOV']].mean(axis=1)\n",
        "# df2['Rabbi'] = df2[['JAN', 'FEB', 'MAR', 'APR', 'MAY']].mean(axis=1)\n",
        "# df2['Autmn'] = df2[['SEP', 'OCT']].mean(axis=1)\n",
        "# df2['Summer'] = df2[['April', 'May', 'June']].mean(axis=1)\n",
        "# df2['Winter'] = df2[['SEP', 'OCT']].mean(axis=1)"
      ],
      "metadata": {
        "id": "0ZPSKoQlZnyQ"
      },
      "execution_count": null,
      "outputs": []
    },
    {
      "cell_type": "code",
      "source": [
        "df2 = df2.drop(labels=['Jan-Feb', 'Mar-May', 'Jun-Sep', 'Oct-Dec'], axis=1)\n",
        "df2.rename(columns={'SUBDIVISION' : 'Subdivision', 'YEAR': 'Year', 'ANNUAL': 'Annual'}, inplace=True)"
      ],
      "metadata": {
        "id": "0QFo2E5xZn1b"
      },
      "execution_count": null,
      "outputs": []
    },
    {
      "cell_type": "code",
      "source": [
        "df2.head()"
      ],
      "metadata": {
        "id": "zDewfWPYZn38"
      },
      "execution_count": null,
      "outputs": []
    },
    {
      "cell_type": "code",
      "source": [
        "df2['Subdivision'] = df2['Subdivision'].apply(lambda x : x.replace('&', 'AND'))\n",
        "df2.head()"
      ],
      "metadata": {
        "id": "fFVdrBrGZn6a"
      },
      "execution_count": null,
      "outputs": []
    },
    {
      "cell_type": "code",
      "source": [
        "crop_yield_data = pd.merge(df1, df2, how='inner', on=['Subdivision', 'Year'])\n",
        "crop_yield_data.head()"
      ],
      "metadata": {
        "id": "f0uQNDxNZn84"
      },
      "execution_count": null,
      "outputs": []
    },
    {
      "cell_type": "code",
      "source": [
        "print(df1[df1['State'] == 'Uttar Pradesh']['District'].unique())"
      ],
      "metadata": {
        "id": "a_agZYnOZ6HT"
      },
      "execution_count": null,
      "outputs": []
    },
    {
      "cell_type": "code",
      "source": [
        "east_uttar_pradesh_districts = []\n",
        "west_uttar_pradesh_districts = []\n",
        "missing = []\n",
        "\n",
        "for district in uttar_pradesh_districts:\n",
        "    if district.lower() in subdivision_districts['EAST UTTAR PRADESH']:\n",
        "        east_uttar_pradesh_districts.append(district)\n",
        "    elif district.lower() in subdivision_districts['WEST UTTAR PRADESH']:\n",
        "        west_uttar_pradesh_districts.append(district)\n",
        "    else:\n",
        "        missing.append(district)\n",
        "print(east_uttar_pradesh_districts)\n",
        "print(west_uttar_pradesh_districts)\n",
        "print(missing)"
      ],
      "metadata": {
        "id": "10Mc3nBhZ6Kg"
      },
      "execution_count": null,
      "outputs": []
    },
    {
      "cell_type": "code",
      "source": [
        ""
      ],
      "metadata": {
        "id": "03qzc_pYZ6NM"
      },
      "execution_count": null,
      "outputs": []
    },
    {
      "cell_type": "code",
      "source": [
        ""
      ],
      "metadata": {
        "id": "WOSGs1BuZ6QF"
      },
      "execution_count": null,
      "outputs": []
    }
  ]
}